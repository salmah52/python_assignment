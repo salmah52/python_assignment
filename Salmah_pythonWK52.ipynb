{
 "cells": [
  {
   "cell_type": "code",
   "execution_count": 1,
   "metadata": {},
   "outputs": [
    {
     "name": "stdout",
     "output_type": "stream",
     "text": [
      "hello world!\n"
     ]
    }
   ],
   "source": [
    "print('hello world!')"
   ]
  },
  {
   "cell_type": "code",
   "execution_count": 12,
   "metadata": {},
   "outputs": [
    {
     "name": "stdout",
     "output_type": "stream",
     "text": [
      "please enter your username.motunrayo\n",
      "hello motunrayo\n"
     ]
    }
   ],
   "source": [
    "name = (input('please enter your username.' ))\n",
    "greeting = 'hello'\n",
    "print(greeting,(name))\n"
   ]
  },
  {
   "cell_type": "code",
   "execution_count": 13,
   "metadata": {},
   "outputs": [
    {
     "name": "stdout",
     "output_type": "stream",
     "text": [
      "motunrayo 9\n"
     ]
    }
   ],
   "source": [
    "print(name,len(name))"
   ]
  },
  {
   "cell_type": "code",
   "execution_count": 14,
   "metadata": {},
   "outputs": [
    {
     "data": {
      "text/plain": [
       "'CAT'"
      ]
     },
     "execution_count": 14,
     "metadata": {},
     "output_type": "execute_result"
    }
   ],
   "source": [
    "my_pet = 'Cat'\n",
    "my_pet.upper()"
   ]
  },
  {
   "cell_type": "code",
   "execution_count": 15,
   "metadata": {},
   "outputs": [
    {
     "data": {
      "text/plain": [
       "'cat'"
      ]
     },
     "execution_count": 15,
     "metadata": {},
     "output_type": "execute_result"
    }
   ],
   "source": [
    "my_pet.lower()"
   ]
  },
  {
   "cell_type": "code",
   "execution_count": 35,
   "metadata": {},
   "outputs": [
    {
     "name": "stdout",
     "output_type": "stream",
     "text": [
      "please type your age.34\n",
      "learning is a continous process,start learning?\n"
     ]
    }
   ],
   "source": [
    "age = float(input('please type your age.' ))\n",
    "if age < 12:\n",
    "    print('you are lucky to be here.')\n",
    "elif (age >= 12) and (age <= 20):\n",
    "    print('make good use of this oppertunity.')\n",
    "else:\n",
    "    print('learning is a continous process,start learning?')\n",
    "    "
   ]
  },
  {
   "cell_type": "code",
   "execution_count": 42,
   "metadata": {},
   "outputs": [
    {
     "name": "stdout",
     "output_type": "stream",
     "text": [
      "what is the score.7\n",
      "The football match was an unmissable game\n"
     ]
    }
   ],
   "source": [
    "goals = float(input('what is the score.' ))\n",
    "if goals == 0:\n",
    "    print('the game was a bore draw!')\n",
    "    \n",
    "elif (goals >=1) and (goals <= 2) :\n",
    "     print('not the most interesting game.')\n",
    "elif (goals >=3) and (goals <=5):\n",
    "     print('it was a very interesting game.')\n",
    "else:\n",
    "    print('The football match was an unmissable game')\n"
   ]
  },
  {
   "cell_type": "code",
   "execution_count": 49,
   "metadata": {},
   "outputs": [
    {
     "name": "stdout",
     "output_type": "stream",
     "text": [
      "welcome to our calculator.\n",
      "1.addition\n",
      "2.substraction\n",
      "3.multiplication\n",
      "4.division\n",
      "enter choice (1/2/3/4)4\n",
      "enter the first number.5\n",
      "enter the second number.5\n",
      "5 / 5 = 1.0\n",
      "result 4\n",
      "Thank you for using our calculator.\n"
     ]
    }
   ],
   "source": [
    "def add(x, y):\n",
    "    return x + y\n",
    "def subtract(x, y):\n",
    "    return x - y\n",
    "def multiply(x, y):\n",
    "    return x * y\n",
    "def divide(x,y):\n",
    "    return x / y\n",
    "print('welcome to our calculator.')\n",
    "print('1-addition')  \n",
    "print('2-substraction')\n",
    "print('3-multiplication')\n",
    "print('4-division')\n",
    "\n",
    "#input from user\n",
    "choice = input('enter choice (1/2/3/4)' )\n",
    "num1 = int(input('enter the first number.' )  )\n",
    "num2 = int(input('enter the second number.' ) )\n",
    "\n",
    "if choice == '1':\n",
    "    print(num1, '+', num2, '=' , add(num1,num2))\n",
    "\n",
    "elif choice == '2':\n",
    "    print(num1, '-',num2, '=' , subtract(num1,num2))\n",
    "\n",
    "elif choice ==  '3':\n",
    "    print(num1,'*',num2, '=', multiply(num1,num2))\n",
    "\n",
    "elif choice ==  '4':\n",
    "    print(num1 , '/',num2, '=', divide(num1,num2))\n",
    "else:\n",
    "    print(\"error 404\")\n",
    "print('result',(choice))\n",
    "print('Thank you for using our calculator.')\n",
    "\n"
   ]
  },
  {
   "cell_type": "code",
   "execution_count": null,
   "metadata": {},
   "outputs": [],
   "source": []
  }
 ],
 "metadata": {
  "kernelspec": {
   "display_name": "Python 3",
   "language": "python",
   "name": "python3"
  },
  "language_info": {
   "codemirror_mode": {
    "name": "ipython",
    "version": 3
   },
   "file_extension": ".py",
   "mimetype": "text/x-python",
   "name": "python",
   "nbconvert_exporter": "python",
   "pygments_lexer": "ipython3",
   "version": "3.7.3"
  }
 },
 "nbformat": 4,
 "nbformat_minor": 2
}
