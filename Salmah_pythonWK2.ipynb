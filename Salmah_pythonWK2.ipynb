{
 "cells": [
  {
   "cell_type": "code",
   "execution_count": 8,
   "metadata": {},
   "outputs": [
    {
     "name": "stdout",
     "output_type": "stream",
     "text": [
      "3 multiples of 3.\n",
      "5 multiplies of 5.\n",
      "6 multiples of 3.\n",
      "9 multiples of 3.\n",
      "10 multiplies of 5.\n",
      "12 multiples of 3.\n",
      "15 multiples of 3.\n",
      "15 multiplies of 5.\n",
      "15 multiplies of 3 and 5.\n",
      "18 multiples of 3.\n",
      "20 multiplies of 5.\n",
      "21 multiples of 3.\n",
      "24 multiples of 3.\n",
      "25 multiplies of 5.\n",
      "27 multiples of 3.\n",
      "30 multiples of 3.\n",
      "30 multiplies of 5.\n",
      "30 multiplies of 3 and 5.\n",
      "33 multiples of 3.\n",
      "35 multiplies of 5.\n",
      "36 multiples of 3.\n",
      "39 multiples of 3.\n",
      "40 multiplies of 5.\n",
      "42 multiples of 3.\n",
      "45 multiples of 3.\n",
      "45 multiplies of 5.\n",
      "45 multiplies of 3 and 5.\n",
      "48 multiples of 3.\n",
      "50 multiplies of 5.\n",
      "51 multiples of 3.\n",
      "54 multiples of 3.\n",
      "55 multiplies of 5.\n",
      "57 multiples of 3.\n",
      "60 multiples of 3.\n",
      "60 multiplies of 5.\n",
      "60 multiplies of 3 and 5.\n",
      "63 multiples of 3.\n",
      "65 multiplies of 5.\n",
      "66 multiples of 3.\n",
      "69 multiples of 3.\n",
      "70 multiplies of 5.\n",
      "72 multiples of 3.\n",
      "75 multiples of 3.\n",
      "75 multiplies of 5.\n",
      "75 multiplies of 3 and 5.\n",
      "78 multiples of 3.\n",
      "80 multiplies of 5.\n",
      "81 multiples of 3.\n",
      "84 multiples of 3.\n",
      "85 multiplies of 5.\n",
      "87 multiples of 3.\n",
      "90 multiples of 3.\n",
      "90 multiplies of 5.\n",
      "90 multiplies of 3 and 5.\n",
      "93 multiples of 3.\n",
      "95 multiplies of 5.\n",
      "96 multiples of 3.\n",
      "99 multiples of 3.\n",
      "100 multiplies of 5.\n"
     ]
    }
   ],
   "source": [
    "#prints the numbers from 1 to 100 and write muliplies for 3 and 5.\n",
    "for i in range (1,101):\n",
    "    if i%3==0:\n",
    "        print(i, \"multiples of 3.\")\n",
    "    if i%5==0:\n",
    "        print(i, \"multiplies of 5.\")\n",
    "    if i%3==0 and i%5==0:\n",
    "        print(i, \"multiplies of 3 and 5.\")"
   ]
  },
  {
   "cell_type": "code",
   "execution_count": 16,
   "metadata": {},
   "outputs": [
    {
     "name": "stdout",
     "output_type": "stream",
     "text": [
      "4950\n"
     ]
    }
   ],
   "source": [
    "#prints out the sum of values between 1 and 100\n",
    "\n",
    "sum = 0\n",
    "for i in range (1,100):\n",
    "    sum += i\n",
    "print(sum)\n"
   ]
  },
  {
   "cell_type": "code",
   "execution_count": 18,
   "metadata": {},
   "outputs": [
    {
     "name": "stdout",
     "output_type": "stream",
     "text": [
      "temp_F: 100\n",
      "37.220000000000006\n"
     ]
    }
   ],
   "source": [
    "#converting temperature from celsius to  fahrenheit.\n",
    "Temp_C = int(input(\"temp_F: \"))\n",
    "Temp_F = 0.55*Temp_C - 17.78\n",
    "print(Temp_F)"
   ]
  },
  {
   "cell_type": "code",
   "execution_count": 19,
   "metadata": {},
   "outputs": [
    {
     "name": "stdout",
     "output_type": "stream",
     "text": [
      "temp_C: 80\n",
      "177.45454545454544\n"
     ]
    }
   ],
   "source": [
    "#converting temperature from fahrenheit to celsius.\n",
    "Temp_F = int(input(\"temp_C: \"))\n",
    "Temp_C = Temp_F/0.55 + 32\n",
    "print(Temp_C)"
   ]
  },
  {
   "cell_type": "code",
   "execution_count": null,
   "metadata": {},
   "outputs": [],
   "source": []
  }
 ],
 "metadata": {
  "kernelspec": {
   "display_name": "Python 3",
   "language": "python",
   "name": "python3"
  },
  "language_info": {
   "codemirror_mode": {
    "name": "ipython",
    "version": 3
   },
   "file_extension": ".py",
   "mimetype": "text/x-python",
   "name": "python",
   "nbconvert_exporter": "python",
   "pygments_lexer": "ipython3",
   "version": "3.7.3"
  }
 },
 "nbformat": 4,
 "nbformat_minor": 2
}
